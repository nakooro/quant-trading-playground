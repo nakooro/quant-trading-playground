{
 "cells": [
  {
   "cell_type": "code",
   "execution_count": null,
   "metadata": {
    "colab": {},
    "colab_type": "code",
    "id": "raN5dzWSDnUA"
   },
   "outputs": [],
   "source": [
    "import pandas as pd\n",
    "import sqlite3\n",
    "import glob"
   ]
  },
  {
   "cell_type": "code",
   "execution_count": null,
   "metadata": {
    "colab": {
     "base_uri": "https://localhost:8080/",
     "height": 34
    },
    "colab_type": "code",
    "id": "8r52Hd4DJadu",
    "outputId": "7d9f5ce6-3f15-4822-bb10-4f5a08da2166"
   },
   "outputs": [
    {
     "data": {
      "text/plain": [
       "datetime.date(2020, 1, 1)"
      ]
     },
     "execution_count": 1,
     "metadata": {
      "tags": []
     },
     "output_type": "execute_result"
    }
   ],
   "source": [
    "import datetime\n",
    "d = datetime.date(2020,1,1)\n",
    "d"
   ]
  },
  {
   "cell_type": "code",
   "execution_count": null,
   "metadata": {
    "colab": {},
    "colab_type": "code",
    "id": "Qmj6SWnPG6TJ"
   },
   "outputs": [],
   "source": [
    "path = \"/content/drive/My Drive/股票/\"\n",
    "csvFiles = glob.glob(path+\"每日歷史紀錄/*.csv\")"
   ]
  },
  {
   "cell_type": "code",
   "execution_count": null,
   "metadata": {
    "colab": {
     "base_uri": "https://localhost:8080/",
     "height": 204
    },
    "colab_type": "code",
    "id": "T1bTqlujKC7v",
    "outputId": "f4c58b36-0dbf-4e1c-e9c8-6ed90e5f4110"
   },
   "outputs": [
    {
     "data": {
      "text/html": [
       "<div>\n",
       "<style scoped>\n",
       "    .dataframe tbody tr th:only-of-type {\n",
       "        vertical-align: middle;\n",
       "    }\n",
       "\n",
       "    .dataframe tbody tr th {\n",
       "        vertical-align: top;\n",
       "    }\n",
       "\n",
       "    .dataframe thead th {\n",
       "        text-align: right;\n",
       "    }\n",
       "</style>\n",
       "<table border=\"1\" class=\"dataframe\">\n",
       "  <thead>\n",
       "    <tr style=\"text-align: right;\">\n",
       "      <th></th>\n",
       "      <th>證券代號</th>\n",
       "      <th>證券名稱</th>\n",
       "      <th>成交股數</th>\n",
       "      <th>成交筆數</th>\n",
       "      <th>成交金額</th>\n",
       "      <th>開盤價</th>\n",
       "      <th>最高價</th>\n",
       "      <th>最低價</th>\n",
       "      <th>收盤價</th>\n",
       "      <th>漲跌(+/-)</th>\n",
       "      <th>漲跌價差</th>\n",
       "      <th>最後揭示買價</th>\n",
       "      <th>最後揭示買量</th>\n",
       "      <th>最後揭示賣價</th>\n",
       "      <th>最後揭示賣量</th>\n",
       "      <th>本益比</th>\n",
       "    </tr>\n",
       "  </thead>\n",
       "  <tbody>\n",
       "    <tr>\n",
       "      <th>0</th>\n",
       "      <td>0050</td>\n",
       "      <td>元大台灣50</td>\n",
       "      <td>16,999,486</td>\n",
       "      <td>5,496</td>\n",
       "      <td>1,442,542,539</td>\n",
       "      <td>84.40</td>\n",
       "      <td>85.00</td>\n",
       "      <td>84.35</td>\n",
       "      <td>84.95</td>\n",
       "      <td>+</td>\n",
       "      <td>0.70</td>\n",
       "      <td>84.90</td>\n",
       "      <td>923</td>\n",
       "      <td>84.95</td>\n",
       "      <td>196</td>\n",
       "      <td>0.00</td>\n",
       "    </tr>\n",
       "    <tr>\n",
       "      <th>1</th>\n",
       "      <td>0051</td>\n",
       "      <td>元大中型100</td>\n",
       "      <td>19,588</td>\n",
       "      <td>13</td>\n",
       "      <td>674,003</td>\n",
       "      <td>34.26</td>\n",
       "      <td>34.50</td>\n",
       "      <td>34.26</td>\n",
       "      <td>34.39</td>\n",
       "      <td>+</td>\n",
       "      <td>0.16</td>\n",
       "      <td>34.38</td>\n",
       "      <td>38</td>\n",
       "      <td>34.45</td>\n",
       "      <td>3</td>\n",
       "      <td>0.00</td>\n",
       "    </tr>\n",
       "    <tr>\n",
       "      <th>2</th>\n",
       "      <td>0052</td>\n",
       "      <td>富邦科技</td>\n",
       "      <td>116,313</td>\n",
       "      <td>12</td>\n",
       "      <td>6,903,267</td>\n",
       "      <td>58.90</td>\n",
       "      <td>59.40</td>\n",
       "      <td>58.90</td>\n",
       "      <td>59.40</td>\n",
       "      <td>+</td>\n",
       "      <td>0.70</td>\n",
       "      <td>59.20</td>\n",
       "      <td>2</td>\n",
       "      <td>59.45</td>\n",
       "      <td>2</td>\n",
       "      <td>0.00</td>\n",
       "    </tr>\n",
       "    <tr>\n",
       "      <th>3</th>\n",
       "      <td>0053</td>\n",
       "      <td>元大電子</td>\n",
       "      <td>19,200</td>\n",
       "      <td>18</td>\n",
       "      <td>718,443</td>\n",
       "      <td>37.25</td>\n",
       "      <td>37.50</td>\n",
       "      <td>37.25</td>\n",
       "      <td>37.46</td>\n",
       "      <td>+</td>\n",
       "      <td>0.21</td>\n",
       "      <td>37.34</td>\n",
       "      <td>22</td>\n",
       "      <td>37.51</td>\n",
       "      <td>15</td>\n",
       "      <td>0.00</td>\n",
       "    </tr>\n",
       "    <tr>\n",
       "      <th>4</th>\n",
       "      <td>0054</td>\n",
       "      <td>元大台商50</td>\n",
       "      <td>8,000</td>\n",
       "      <td>6</td>\n",
       "      <td>185,840</td>\n",
       "      <td>23.17</td>\n",
       "      <td>23.32</td>\n",
       "      <td>23.17</td>\n",
       "      <td>23.27</td>\n",
       "      <td>+</td>\n",
       "      <td>0.10</td>\n",
       "      <td>23.20</td>\n",
       "      <td>10</td>\n",
       "      <td>23.32</td>\n",
       "      <td>1</td>\n",
       "      <td>0.00</td>\n",
       "    </tr>\n",
       "  </tbody>\n",
       "</table>\n",
       "</div>"
      ],
      "text/plain": [
       "   證券代號     證券名稱        成交股數   成交筆數  ... 最後揭示買量 最後揭示賣價 最後揭示賣量   本益比\n",
       "0  0050   元大台灣50  16,999,486  5,496  ...    923  84.95    196  0.00\n",
       "1  0051  元大中型100      19,588     13  ...     38  34.45      3  0.00\n",
       "2  0052     富邦科技     116,313     12  ...      2  59.45      2  0.00\n",
       "3  0053     元大電子      19,200     18  ...     22  37.51     15  0.00\n",
       "4  0054   元大台商50       8,000      6  ...     10  23.32      1  0.00\n",
       "\n",
       "[5 rows x 16 columns]"
      ]
     },
     "execution_count": 18,
     "metadata": {
      "tags": []
     },
     "output_type": "execute_result"
    }
   ],
   "source": [
    "df = pd.read_csv(csvFiles[0])\n",
    "df.iloc[:,1:].head()"
   ]
  },
  {
   "cell_type": "code",
   "execution_count": null,
   "metadata": {
    "colab": {},
    "colab_type": "code",
    "id": "qQ9jcP2aKL_O"
   },
   "outputs": [],
   "source": [
    "dbName = \"twstock.db\"\n",
    "db = sqlite3.connect(dbName)"
   ]
  },
  {
   "cell_type": "code",
   "execution_count": null,
   "metadata": {
    "colab": {},
    "colab_type": "code",
    "id": "bhZAGNv4Qa2V"
   },
   "outputs": [],
   "source": [
    "for file in csvFiles:\n",
    "  name = file.replace(\".csv\",\"\")[-8:]\n",
    "  df = pd.read_csv(file)\n",
    "  df.iloc[:,1:].to_sql(name, db, if_exists=\"replace\")"
   ]
  },
  {
   "cell_type": "code",
   "execution_count": null,
   "metadata": {
    "colab": {
     "base_uri": "https://localhost:8080/",
     "height": 35
    },
    "colab_type": "code",
    "id": "P3k4aF1i-Ybg",
    "outputId": "b85e22ff-df87-46b4-8f2e-ae8f32b3cb3b"
   },
   "outputs": [
    {
     "data": {
      "application/vnd.google.colaboratory.intrinsic": {
       "type": "string"
      },
      "text/plain": [
       "'20190914'"
      ]
     },
     "execution_count": 20,
     "metadata": {
      "tags": []
     },
     "output_type": "execute_result"
    }
   ],
   "source": [
    "dateList = [file.replace(\".csv\", \"\")[-8:] for file in csvFiles]\n",
    "dateList[0]"
   ]
  },
  {
   "cell_type": "code",
   "execution_count": null,
   "metadata": {
    "colab": {
     "base_uri": "https://localhost:8080/",
     "height": 419
    },
    "colab_type": "code",
    "id": "98IxMmiGUkbv",
    "outputId": "b38e58a5-fa0d-440b-939c-0af8d0c1aec3"
   },
   "outputs": [
    {
     "data": {
      "text/html": [
       "<div>\n",
       "<style scoped>\n",
       "    .dataframe tbody tr th:only-of-type {\n",
       "        vertical-align: middle;\n",
       "    }\n",
       "\n",
       "    .dataframe tbody tr th {\n",
       "        vertical-align: top;\n",
       "    }\n",
       "\n",
       "    .dataframe thead th {\n",
       "        text-align: right;\n",
       "    }\n",
       "</style>\n",
       "<table border=\"1\" class=\"dataframe\">\n",
       "  <thead>\n",
       "    <tr style=\"text-align: right;\">\n",
       "      <th></th>\n",
       "      <th>index</th>\n",
       "      <th>證券代號</th>\n",
       "      <th>證券名稱</th>\n",
       "      <th>成交股數</th>\n",
       "      <th>成交筆數</th>\n",
       "      <th>成交金額</th>\n",
       "      <th>開盤價</th>\n",
       "      <th>最高價</th>\n",
       "      <th>最低價</th>\n",
       "      <th>收盤價</th>\n",
       "      <th>漲跌(+/-)</th>\n",
       "      <th>漲跌價差</th>\n",
       "      <th>最後揭示買價</th>\n",
       "      <th>最後揭示買量</th>\n",
       "      <th>最後揭示賣價</th>\n",
       "      <th>最後揭示賣量</th>\n",
       "      <th>本益比</th>\n",
       "    </tr>\n",
       "  </thead>\n",
       "  <tbody>\n",
       "    <tr>\n",
       "      <th>0</th>\n",
       "      <td>0</td>\n",
       "      <td>0050</td>\n",
       "      <td>元大台灣50</td>\n",
       "      <td>16,999,486</td>\n",
       "      <td>5,496</td>\n",
       "      <td>1,442,542,539</td>\n",
       "      <td>84.40</td>\n",
       "      <td>85.00</td>\n",
       "      <td>84.35</td>\n",
       "      <td>84.95</td>\n",
       "      <td>+</td>\n",
       "      <td>0.70</td>\n",
       "      <td>84.90</td>\n",
       "      <td>923</td>\n",
       "      <td>84.95</td>\n",
       "      <td>196</td>\n",
       "      <td>0.00</td>\n",
       "    </tr>\n",
       "    <tr>\n",
       "      <th>1</th>\n",
       "      <td>1</td>\n",
       "      <td>0051</td>\n",
       "      <td>元大中型100</td>\n",
       "      <td>19,588</td>\n",
       "      <td>13</td>\n",
       "      <td>674,003</td>\n",
       "      <td>34.26</td>\n",
       "      <td>34.50</td>\n",
       "      <td>34.26</td>\n",
       "      <td>34.39</td>\n",
       "      <td>+</td>\n",
       "      <td>0.16</td>\n",
       "      <td>34.38</td>\n",
       "      <td>38</td>\n",
       "      <td>34.45</td>\n",
       "      <td>3</td>\n",
       "      <td>0.00</td>\n",
       "    </tr>\n",
       "    <tr>\n",
       "      <th>2</th>\n",
       "      <td>2</td>\n",
       "      <td>0052</td>\n",
       "      <td>富邦科技</td>\n",
       "      <td>116,313</td>\n",
       "      <td>12</td>\n",
       "      <td>6,903,267</td>\n",
       "      <td>58.90</td>\n",
       "      <td>59.40</td>\n",
       "      <td>58.90</td>\n",
       "      <td>59.40</td>\n",
       "      <td>+</td>\n",
       "      <td>0.70</td>\n",
       "      <td>59.20</td>\n",
       "      <td>2</td>\n",
       "      <td>59.45</td>\n",
       "      <td>2</td>\n",
       "      <td>0.00</td>\n",
       "    </tr>\n",
       "    <tr>\n",
       "      <th>3</th>\n",
       "      <td>3</td>\n",
       "      <td>0053</td>\n",
       "      <td>元大電子</td>\n",
       "      <td>19,200</td>\n",
       "      <td>18</td>\n",
       "      <td>718,443</td>\n",
       "      <td>37.25</td>\n",
       "      <td>37.50</td>\n",
       "      <td>37.25</td>\n",
       "      <td>37.46</td>\n",
       "      <td>+</td>\n",
       "      <td>0.21</td>\n",
       "      <td>37.34</td>\n",
       "      <td>22</td>\n",
       "      <td>37.51</td>\n",
       "      <td>15</td>\n",
       "      <td>0.00</td>\n",
       "    </tr>\n",
       "    <tr>\n",
       "      <th>4</th>\n",
       "      <td>4</td>\n",
       "      <td>0054</td>\n",
       "      <td>元大台商50</td>\n",
       "      <td>8,000</td>\n",
       "      <td>6</td>\n",
       "      <td>185,840</td>\n",
       "      <td>23.17</td>\n",
       "      <td>23.32</td>\n",
       "      <td>23.17</td>\n",
       "      <td>23.27</td>\n",
       "      <td>+</td>\n",
       "      <td>0.10</td>\n",
       "      <td>23.20</td>\n",
       "      <td>10</td>\n",
       "      <td>23.32</td>\n",
       "      <td>1</td>\n",
       "      <td>0.00</td>\n",
       "    </tr>\n",
       "    <tr>\n",
       "      <th>...</th>\n",
       "      <td>...</td>\n",
       "      <td>...</td>\n",
       "      <td>...</td>\n",
       "      <td>...</td>\n",
       "      <td>...</td>\n",
       "      <td>...</td>\n",
       "      <td>...</td>\n",
       "      <td>...</td>\n",
       "      <td>...</td>\n",
       "      <td>...</td>\n",
       "      <td>...</td>\n",
       "      <td>...</td>\n",
       "      <td>...</td>\n",
       "      <td>...</td>\n",
       "      <td>...</td>\n",
       "      <td>...</td>\n",
       "      <td>...</td>\n",
       "    </tr>\n",
       "    <tr>\n",
       "      <th>1096</th>\n",
       "      <td>1096</td>\n",
       "      <td>9944</td>\n",
       "      <td>新麗</td>\n",
       "      <td>11,000</td>\n",
       "      <td>10</td>\n",
       "      <td>189,950</td>\n",
       "      <td>17.30</td>\n",
       "      <td>17.30</td>\n",
       "      <td>17.15</td>\n",
       "      <td>17.30</td>\n",
       "      <td>-</td>\n",
       "      <td>0.05</td>\n",
       "      <td>17.20</td>\n",
       "      <td>1</td>\n",
       "      <td>17.30</td>\n",
       "      <td>8</td>\n",
       "      <td>0.00</td>\n",
       "    </tr>\n",
       "    <tr>\n",
       "      <th>1097</th>\n",
       "      <td>1097</td>\n",
       "      <td>9945</td>\n",
       "      <td>潤泰新</td>\n",
       "      <td>1,586,795</td>\n",
       "      <td>1,021</td>\n",
       "      <td>68,377,912</td>\n",
       "      <td>43.20</td>\n",
       "      <td>43.30</td>\n",
       "      <td>42.80</td>\n",
       "      <td>43.15</td>\n",
       "      <td>-</td>\n",
       "      <td>0.30</td>\n",
       "      <td>43.15</td>\n",
       "      <td>21</td>\n",
       "      <td>43.20</td>\n",
       "      <td>1</td>\n",
       "      <td>4.49</td>\n",
       "    </tr>\n",
       "    <tr>\n",
       "      <th>1098</th>\n",
       "      <td>1098</td>\n",
       "      <td>9946</td>\n",
       "      <td>三發地產</td>\n",
       "      <td>705,230</td>\n",
       "      <td>414</td>\n",
       "      <td>16,374,547</td>\n",
       "      <td>23.20</td>\n",
       "      <td>23.30</td>\n",
       "      <td>23.15</td>\n",
       "      <td>23.15</td>\n",
       "      <td></td>\n",
       "      <td>0.00</td>\n",
       "      <td>23.15</td>\n",
       "      <td>14</td>\n",
       "      <td>23.20</td>\n",
       "      <td>3</td>\n",
       "      <td>5.47</td>\n",
       "    </tr>\n",
       "    <tr>\n",
       "      <th>1099</th>\n",
       "      <td>1099</td>\n",
       "      <td>9955</td>\n",
       "      <td>佳龍</td>\n",
       "      <td>442,613</td>\n",
       "      <td>231</td>\n",
       "      <td>8,499,084</td>\n",
       "      <td>19.30</td>\n",
       "      <td>19.35</td>\n",
       "      <td>19.15</td>\n",
       "      <td>19.15</td>\n",
       "      <td>-</td>\n",
       "      <td>0.15</td>\n",
       "      <td>19.15</td>\n",
       "      <td>66</td>\n",
       "      <td>19.20</td>\n",
       "      <td>1</td>\n",
       "      <td>0.00</td>\n",
       "    </tr>\n",
       "    <tr>\n",
       "      <th>1100</th>\n",
       "      <td>1100</td>\n",
       "      <td>9958</td>\n",
       "      <td>世紀鋼</td>\n",
       "      <td>5,940,537</td>\n",
       "      <td>3,311</td>\n",
       "      <td>464,879,118</td>\n",
       "      <td>77.90</td>\n",
       "      <td>79.30</td>\n",
       "      <td>77.50</td>\n",
       "      <td>77.70</td>\n",
       "      <td>X</td>\n",
       "      <td>0.00</td>\n",
       "      <td>77.70</td>\n",
       "      <td>47</td>\n",
       "      <td>77.80</td>\n",
       "      <td>10</td>\n",
       "      <td>485.62</td>\n",
       "    </tr>\n",
       "  </tbody>\n",
       "</table>\n",
       "<p>1101 rows × 17 columns</p>\n",
       "</div>"
      ],
      "text/plain": [
       "      index  證券代號     證券名稱        成交股數  ... 最後揭示買量 最後揭示賣價 最後揭示賣量     本益比\n",
       "0         0  0050   元大台灣50  16,999,486  ...    923  84.95    196    0.00\n",
       "1         1  0051  元大中型100      19,588  ...     38  34.45      3    0.00\n",
       "2         2  0052     富邦科技     116,313  ...      2  59.45      2    0.00\n",
       "3         3  0053     元大電子      19,200  ...     22  37.51     15    0.00\n",
       "4         4  0054   元大台商50       8,000  ...     10  23.32      1    0.00\n",
       "...     ...   ...      ...         ...  ...    ...    ...    ...     ...\n",
       "1096   1096  9944       新麗      11,000  ...      1  17.30      8    0.00\n",
       "1097   1097  9945      潤泰新   1,586,795  ...     21  43.20      1    4.49\n",
       "1098   1098  9946     三發地產     705,230  ...     14  23.20      3    5.47\n",
       "1099   1099  9955       佳龍     442,613  ...     66  19.20      1    0.00\n",
       "1100   1100  9958      世紀鋼   5,940,537  ...     47  77.80     10  485.62\n",
       "\n",
       "[1101 rows x 17 columns]"
      ]
     },
     "execution_count": 21,
     "metadata": {
      "tags": []
     },
     "output_type": "execute_result"
    }
   ],
   "source": [
    "pd.read_sql(con=db, sql=\"select * from '{}'\".format(dateList[0]))"
   ]
  },
  {
   "cell_type": "code",
   "execution_count": null,
   "metadata": {
    "colab": {},
    "colab_type": "code",
    "id": "iQfP1RixfLRq"
   },
   "outputs": [],
   "source": [
    "total_df = pd.DataFrame()\n",
    "\n",
    "for date in dateList:\n",
    "  df = pd.read_sql(con=db, sql=\"select * from '{}'\".format(date))\n",
    "  df['Date'] = date\n",
    "  total_df = total_df.append(df)"
   ]
  },
  {
   "cell_type": "code",
   "execution_count": null,
   "metadata": {
    "colab": {},
    "colab_type": "code",
    "id": "ca3GACLCGfOw"
   },
   "outputs": [],
   "source": [
    "total_df.shape\n",
    "tuple(total_df.groupby('證券代號'))"
   ]
  },
  {
   "cell_type": "code",
   "execution_count": null,
   "metadata": {
    "colab": {
     "base_uri": "https://localhost:8080/"
    },
    "colab_type": "code",
    "id": "hG5f-VTvcurz",
    "outputId": "d3a46296-fcbd-48dd-8394-74c9fb892425"
   },
   "outputs": [
    {
     "ename": "NameError",
     "evalue": "ignored",
     "output_type": "error",
     "traceback": [
      "\u001b[0;31m---------------------------------------------------------------------------\u001b[0m",
      "\u001b[0;31mNameError\u001b[0m                                 Traceback (most recent call last)",
      "\u001b[0;32m<ipython-input-1-b8e069d288aa>\u001b[0m in \u001b[0;36m<module>\u001b[0;34m()\u001b[0m\n\u001b[0;32m----> 1\u001b[0;31m \u001b[0mdbname_2\u001b[0m \u001b[0;34m=\u001b[0m \u001b[0mpath\u001b[0m \u001b[0;34m+\u001b[0m \u001b[0;34m'twstock_indie.db'\u001b[0m\u001b[0;34m\u001b[0m\u001b[0;34m\u001b[0m\u001b[0m\n\u001b[0m\u001b[1;32m      2\u001b[0m \u001b[0mdb2\u001b[0m \u001b[0;34m=\u001b[0m \u001b[0msqlite3\u001b[0m\u001b[0;34m.\u001b[0m\u001b[0mconnect\u001b[0m\u001b[0;34m(\u001b[0m\u001b[0mdbname_2\u001b[0m\u001b[0;34m)\u001b[0m\u001b[0;34m\u001b[0m\u001b[0;34m\u001b[0m\u001b[0m\n",
      "\u001b[0;31mNameError\u001b[0m: name 'path' is not defined"
     ]
    }
   ],
   "source": [
    "dbname_2 = path + 'twstock_indie.db'\n",
    "db2 = sqlite3.connect(dbname_2)"
   ]
  },
  {
   "cell_type": "code",
   "execution_count": null,
   "metadata": {
    "colab": {
     "base_uri": "https://localhost:8080/"
    },
    "colab_type": "code",
    "id": "hwwiRk4xb4bv",
    "outputId": "49d811f0-d35f-4930-a151-d30e4299bdb7"
   },
   "outputs": [
    {
     "ename": "NameError",
     "evalue": "ignored",
     "output_type": "error",
     "traceback": [
      "\u001b[0;31m---------------------------------------------------------------------------\u001b[0m",
      "\u001b[0;31mNameError\u001b[0m                                 Traceback (most recent call last)",
      "\u001b[0;32m<ipython-input-2-f71122cb0371>\u001b[0m in \u001b[0;36m<module>\u001b[0;34m()\u001b[0m\n\u001b[0;32m----> 1\u001b[0;31m \u001b[0mtotal_dict\u001b[0m \u001b[0;34m=\u001b[0m \u001b[0mdict\u001b[0m\u001b[0;34m(\u001b[0m\u001b[0mtuple\u001b[0m\u001b[0;34m(\u001b[0m\u001b[0mtotal_df\u001b[0m\u001b[0;34m.\u001b[0m\u001b[0mgroupby\u001b[0m\u001b[0;34m(\u001b[0m\u001b[0;34m'證券代號'\u001b[0m\u001b[0;34m)\u001b[0m\u001b[0;34m)\u001b[0m\u001b[0;34m)\u001b[0m\u001b[0;34m\u001b[0m\u001b[0;34m\u001b[0m\u001b[0m\n\u001b[0m\u001b[1;32m      2\u001b[0m \u001b[0;34m\u001b[0m\u001b[0m\n\u001b[1;32m      3\u001b[0m \u001b[0;32mfor\u001b[0m \u001b[0mkey\u001b[0m \u001b[0;32min\u001b[0m \u001b[0mtotal_dict\u001b[0m\u001b[0;34m.\u001b[0m\u001b[0mkeys\u001b[0m\u001b[0;34m(\u001b[0m\u001b[0;34m)\u001b[0m\u001b[0;34m:\u001b[0m\u001b[0;34m\u001b[0m\u001b[0;34m\u001b[0m\u001b[0m\n\u001b[1;32m      4\u001b[0m     \u001b[0mdf\u001b[0m \u001b[0;34m=\u001b[0m \u001b[0mtotal_dict\u001b[0m\u001b[0;34m[\u001b[0m\u001b[0mkey\u001b[0m\u001b[0;34m]\u001b[0m\u001b[0;34m.\u001b[0m\u001b[0miloc\u001b[0m\u001b[0;34m[\u001b[0m\u001b[0;34m:\u001b[0m\u001b[0;34m,\u001b[0m\u001b[0;36m2\u001b[0m\u001b[0;34m:\u001b[0m\u001b[0;34m-\u001b[0m\u001b[0;36m1\u001b[0m\u001b[0;34m]\u001b[0m\u001b[0;34m\u001b[0m\u001b[0;34m\u001b[0m\u001b[0m\n\u001b[1;32m      5\u001b[0m     \u001b[0mdf\u001b[0m\u001b[0;34m[\u001b[0m\u001b[0;34m'Date'\u001b[0m\u001b[0;34m]\u001b[0m \u001b[0;34m=\u001b[0m \u001b[0mpd\u001b[0m\u001b[0;34m.\u001b[0m\u001b[0mto_datetime\u001b[0m\u001b[0;34m(\u001b[0m\u001b[0mdf\u001b[0m\u001b[0;34m[\u001b[0m\u001b[0;34m'Date'\u001b[0m\u001b[0;34m]\u001b[0m\u001b[0;34m)\u001b[0m\u001b[0;34m\u001b[0m\u001b[0;34m\u001b[0m\u001b[0m\n",
      "\u001b[0;31mNameError\u001b[0m: name 'total_df' is not defined"
     ]
    }
   ],
   "source": [
    "total_dict = dict(tuple(total_df.groupby('證券代號')))\n",
    "\n",
    "for key in total_dict.keys():\n",
    "    df = total_dict[key].iloc[:,2:-1]\n",
    "    df['Date'] = pd.to_datetime(df['Date'])\n",
    "    df = df.sort_values(by=['Date'])\n",
    "    df.to_sql(key,db2,if_exists='replace')"
   ]
  },
  {
   "cell_type": "code",
   "execution_count": null,
   "metadata": {
    "colab": {
     "base_uri": "https://localhost:8080/",
     "height": 181
    },
    "colab_type": "code",
    "id": "P0zVhk-jeyms",
    "outputId": "af74b8bf-329a-4347-9c31-53517b4719bb"
   },
   "outputs": [
    {
     "ename": "NameError",
     "evalue": "ignored",
     "output_type": "error",
     "traceback": [
      "\u001b[0;31m---------------------------------------------------------------------------\u001b[0m",
      "\u001b[0;31mNameError\u001b[0m                                 Traceback (most recent call last)",
      "\u001b[0;32m<ipython-input-3-db1c63821dcd>\u001b[0m in \u001b[0;36m<module>\u001b[0;34m()\u001b[0m\n\u001b[0;32m----> 1\u001b[0;31m \u001b[0mprint\u001b[0m\u001b[0;34m(\u001b[0m\u001b[0mpd\u001b[0m\u001b[0;34m.\u001b[0m\u001b[0mread_sql\u001b[0m\u001b[0;34m(\u001b[0m\u001b[0mcon\u001b[0m\u001b[0;34m=\u001b[0m\u001b[0mdb2\u001b[0m\u001b[0;34m,\u001b[0m\u001b[0msql\u001b[0m\u001b[0;34m=\u001b[0m\u001b[0;34m'SELECT * FROM \"2330\"'\u001b[0m\u001b[0;34m)\u001b[0m\u001b[0;34m.\u001b[0m\u001b[0mtail\u001b[0m\u001b[0;34m(\u001b[0m\u001b[0;34m)\u001b[0m\u001b[0;34m)\u001b[0m\u001b[0;34m\u001b[0m\u001b[0;34m\u001b[0m\u001b[0m\n\u001b[0m\u001b[1;32m      2\u001b[0m \u001b[0mprint\u001b[0m\u001b[0;34m(\u001b[0m\u001b[0mpd\u001b[0m\u001b[0;34m.\u001b[0m\u001b[0mread_sql\u001b[0m\u001b[0;34m(\u001b[0m\u001b[0mcon\u001b[0m\u001b[0;34m=\u001b[0m\u001b[0mdb2\u001b[0m\u001b[0;34m,\u001b[0m\u001b[0msql\u001b[0m\u001b[0;34m=\u001b[0m\u001b[0;34m'SELECT * FROM \"0050\"'\u001b[0m\u001b[0;34m)\u001b[0m\u001b[0;34m.\u001b[0m\u001b[0mtail\u001b[0m\u001b[0;34m(\u001b[0m\u001b[0;34m)\u001b[0m\u001b[0;34m)\u001b[0m\u001b[0;34m\u001b[0m\u001b[0;34m\u001b[0m\u001b[0m\n",
      "\u001b[0;31mNameError\u001b[0m: name 'pd' is not defined"
     ]
    }
   ],
   "source": [
    "print(pd.read_sql(con=db2,sql='SELECT * FROM \"2330\"').tail())\n",
    "print(pd.read_sql(con=db2,sql='SELECT * FROM \"0050\"').tail())"
   ]
  }
 ],
 "metadata": {
  "colab": {
   "collapsed_sections": [],
   "name": "twstock-database",
   "provenance": [],
   "toc_visible": true
  },
  "kernelspec": {
   "display_name": "Python 3",
   "language": "python",
   "name": "python3"
  },
  "language_info": {
   "codemirror_mode": {
    "name": "ipython",
    "version": 3
   },
   "file_extension": ".py",
   "mimetype": "text/x-python",
   "name": "python",
   "nbconvert_exporter": "python",
   "pygments_lexer": "ipython3",
   "version": "3.7.6"
  }
 },
 "nbformat": 4,
 "nbformat_minor": 1
}

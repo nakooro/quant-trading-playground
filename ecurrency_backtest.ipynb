{
  "nbformat": 4,
  "nbformat_minor": 0,
  "metadata": {
    "colab": {
      "name": "ecurrency-backtest",
      "provenance": [],
      "collapsed_sections": []
    },
    "kernelspec": {
      "name": "python3",
      "display_name": "Python 3"
    }
  },
  "cells": [
    {
      "cell_type": "code",
      "metadata": {
        "id": "OUQ137TU3pe3",
        "colab_type": "code",
        "colab": {
          "base_uri": "https://localhost:8080/",
          "height": 1000
        },
        "outputId": "7b474e3e-ac58-45e3-82a6-28ad416de922"
      },
      "source": [
        "!git clone https://github.com/koreal6803/crypto_backtrader.git\n",
        "!pip install python-binance\n",
        "!pip install bitmex\n",
        "!pip install Backtesting\n",
        "!pip install backtrader\n"
      ],
      "execution_count": null,
      "outputs": [
        {
          "output_type": "stream",
          "text": [
            "Cloning into 'crypto_backtrader'...\n",
            "remote: Enumerating objects: 13, done.\u001b[K\n",
            "remote: Counting objects: 100% (13/13), done.\u001b[K\n",
            "remote: Compressing objects: 100% (8/8), done.\u001b[K\n",
            "remote: Total 13 (delta 0), reused 13 (delta 0), pack-reused 0\u001b[K\n",
            "Unpacking objects: 100% (13/13), done.\n",
            "Collecting python-binance\n",
            "  Downloading https://files.pythonhosted.org/packages/02/ba/d253c7d0bd5c81a6cccd57140f13925e13995aeb0070ff58decd22d44793/python_binance-0.7.5-py2.py3-none-any.whl\n",
            "Collecting service-identity\n",
            "  Downloading https://files.pythonhosted.org/packages/e9/7c/2195b890023e098f9618d43ebc337d83c8b38d414326685339eb024db2f6/service_identity-18.1.0-py2.py3-none-any.whl\n",
            "Collecting Twisted\n",
            "\u001b[?25l  Downloading https://files.pythonhosted.org/packages/b7/04/1a664c9e5ec0224a1c1a154ddecaa4dc7b8967521bba225efcc41a03d5f3/Twisted-20.3.0-cp36-cp36m-manylinux1_x86_64.whl (3.1MB)\n",
            "\u001b[K     |████████████████████████████████| 3.1MB 6.0MB/s \n",
            "\u001b[?25hCollecting dateparser\n",
            "\u001b[?25l  Downloading https://files.pythonhosted.org/packages/ad/0c/aba72d8454c28ab3800f3efd1ab3fe4f3fa41eb2746adc0cdcb318200796/dateparser-0.7.4-py2.py3-none-any.whl (353kB)\n",
            "\u001b[K     |████████████████████████████████| 358kB 29.4MB/s \n",
            "\u001b[?25hCollecting cryptography\n",
            "\u001b[?25l  Downloading https://files.pythonhosted.org/packages/3c/04/686efee2dcdd25aecf357992e7d9362f443eb182ecd623f882bc9f7a6bba/cryptography-2.9.2-cp35-abi3-manylinux2010_x86_64.whl (2.7MB)\n",
            "\u001b[K     |████████████████████████████████| 2.7MB 31.6MB/s \n",
            "\u001b[?25hRequirement already satisfied: certifi in /usr/local/lib/python3.6/dist-packages (from python-binance) (2020.4.5.1)\n",
            "Requirement already satisfied: urllib3 in /usr/local/lib/python3.6/dist-packages (from python-binance) (1.24.3)\n",
            "Requirement already satisfied: requests in /usr/local/lib/python3.6/dist-packages (from python-binance) (2.23.0)\n",
            "Requirement already satisfied: six in /usr/local/lib/python3.6/dist-packages (from python-binance) (1.12.0)\n",
            "Collecting pyOpenSSL\n",
            "\u001b[?25l  Downloading https://files.pythonhosted.org/packages/9e/de/f8342b68fa9e981d348039954657bdf681b2ab93de27443be51865ffa310/pyOpenSSL-19.1.0-py2.py3-none-any.whl (53kB)\n",
            "\u001b[K     |████████████████████████████████| 61kB 9.5MB/s \n",
            "\u001b[?25hCollecting autobahn\n",
            "\u001b[?25l  Downloading https://files.pythonhosted.org/packages/a6/56/c218e6ffadbc42a5e0ba8a837a6cc57fa2dd98ab8350e5097a724e7abfd7/autobahn-20.4.3-py2.py3-none-any.whl (1.1MB)\n",
            "\u001b[K     |████████████████████████████████| 1.1MB 48.9MB/s \n",
            "\u001b[?25hRequirement already satisfied: attrs>=16.0.0 in /usr/local/lib/python3.6/dist-packages (from service-identity->python-binance) (19.3.0)\n",
            "Requirement already satisfied: pyasn1 in /usr/local/lib/python3.6/dist-packages (from service-identity->python-binance) (0.4.8)\n",
            "Requirement already satisfied: pyasn1-modules in /usr/local/lib/python3.6/dist-packages (from service-identity->python-binance) (0.2.8)\n",
            "Collecting PyHamcrest!=1.10.0,>=1.9.0\n",
            "\u001b[?25l  Downloading https://files.pythonhosted.org/packages/40/16/e54cc65891f01cb62893540f44ffd3e8dab0a22443e1b438f1a9f5574bee/PyHamcrest-2.0.2-py3-none-any.whl (52kB)\n",
            "\u001b[K     |████████████████████████████████| 61kB 9.7MB/s \n",
            "\u001b[?25hCollecting Automat>=0.3.0\n",
            "  Downloading https://files.pythonhosted.org/packages/dd/83/5f6f3c1a562674d65efc320257bdc0873ec53147835aeef7762fe7585273/Automat-20.2.0-py2.py3-none-any.whl\n",
            "Collecting zope.interface>=4.4.2\n",
            "\u001b[?25l  Downloading https://files.pythonhosted.org/packages/57/33/565274c28a11af60b7cfc0519d46bde4125fcd7d32ebc0a81b480d0e8da6/zope.interface-5.1.0-cp36-cp36m-manylinux2010_x86_64.whl (234kB)\n",
            "\u001b[K     |████████████████████████████████| 235kB 44.5MB/s \n",
            "\u001b[?25hCollecting hyperlink>=17.1.1\n",
            "  Downloading https://files.pythonhosted.org/packages/7f/91/e916ca10a2de1cb7101a9b24da546fb90ee14629e23160086cf3361c4fb8/hyperlink-19.0.0-py2.py3-none-any.whl\n",
            "Collecting incremental>=16.10.1\n",
            "  Downloading https://files.pythonhosted.org/packages/f5/1d/c98a587dc06e107115cf4a58b49de20b19222c83d75335a192052af4c4b7/incremental-17.5.0-py2.py3-none-any.whl\n",
            "Collecting constantly>=15.1\n",
            "  Downloading https://files.pythonhosted.org/packages/b9/65/48c1909d0c0aeae6c10213340ce682db01b48ea900a7d9fce7a7910ff318/constantly-15.1.0-py2.py3-none-any.whl\n",
            "Requirement already satisfied: regex!=2019.02.19 in /usr/local/lib/python3.6/dist-packages (from dateparser->python-binance) (2019.12.20)\n",
            "Requirement already satisfied: tzlocal in /usr/local/lib/python3.6/dist-packages (from dateparser->python-binance) (1.5.1)\n",
            "Requirement already satisfied: python-dateutil in /usr/local/lib/python3.6/dist-packages (from dateparser->python-binance) (2.8.1)\n",
            "Requirement already satisfied: pytz in /usr/local/lib/python3.6/dist-packages (from dateparser->python-binance) (2018.9)\n",
            "Requirement already satisfied: cffi!=1.11.3,>=1.8 in /usr/local/lib/python3.6/dist-packages (from cryptography->python-binance) (1.14.0)\n",
            "Requirement already satisfied: idna<3,>=2.5 in /usr/local/lib/python3.6/dist-packages (from requests->python-binance) (2.9)\n",
            "Requirement already satisfied: chardet<4,>=3.0.2 in /usr/local/lib/python3.6/dist-packages (from requests->python-binance) (3.0.4)\n",
            "Collecting txaio>=20.3.1\n",
            "  Downloading https://files.pythonhosted.org/packages/4f/82/0cd8d81d57e55a598cd4cef10c6e971dbcaf437e4f138dc1624cf7c1388e/txaio-20.4.1-py2.py3-none-any.whl\n",
            "Requirement already satisfied: setuptools in /usr/local/lib/python3.6/dist-packages (from zope.interface>=4.4.2->Twisted->python-binance) (46.1.3)\n",
            "Requirement already satisfied: pycparser in /usr/local/lib/python3.6/dist-packages (from cffi!=1.11.3,>=1.8->cryptography->python-binance) (2.20)\n",
            "Installing collected packages: cryptography, service-identity, PyHamcrest, Automat, zope.interface, hyperlink, incremental, constantly, Twisted, dateparser, pyOpenSSL, txaio, autobahn, python-binance\n",
            "Successfully installed Automat-20.2.0 PyHamcrest-2.0.2 Twisted-20.3.0 autobahn-20.4.3 constantly-15.1.0 cryptography-2.9.2 dateparser-0.7.4 hyperlink-19.0.0 incremental-17.5.0 pyOpenSSL-19.1.0 python-binance-0.7.5 service-identity-18.1.0 txaio-20.4.1 zope.interface-5.1.0\n",
            "Collecting bitmex\n",
            "  Downloading https://files.pythonhosted.org/packages/bd/f4/298b2e0fc653bca4724a741faca4165d1e0bb1393bb33be9a466a501d493/bitmex-0.2.2-py3-none-any.whl\n",
            "Collecting bravado\n",
            "  Downloading https://files.pythonhosted.org/packages/86/45/f94d58c84ec3ee44c1badb2d9ae5468c6575eafe33116afaa07ea2fd663c/bravado-10.6.0-py2.py3-none-any.whl\n",
            "Collecting simplejson\n",
            "\u001b[?25l  Downloading https://files.pythonhosted.org/packages/98/87/a7b98aa9256c8843f92878966dc3d8d914c14aad97e2c5ce4798d5743e07/simplejson-3.17.0.tar.gz (83kB)\n",
            "\u001b[K     |████████████████████████████████| 92kB 3.9MB/s \n",
            "\u001b[?25hRequirement already satisfied: requests>=2.17 in /usr/local/lib/python3.6/dist-packages (from bravado->bitmex) (2.23.0)\n",
            "Requirement already satisfied: six in /usr/local/lib/python3.6/dist-packages (from bravado->bitmex) (1.12.0)\n",
            "Requirement already satisfied: python-dateutil in /usr/local/lib/python3.6/dist-packages (from bravado->bitmex) (2.8.1)\n",
            "Collecting msgpack-python\n",
            "\u001b[?25l  Downloading https://files.pythonhosted.org/packages/8a/20/6eca772d1a5830336f84aca1d8198e5a3f4715cd1c7fc36d3cc7f7185091/msgpack-python-0.5.6.tar.gz (138kB)\n",
            "\u001b[K     |████████████████████████████████| 143kB 8.5MB/s \n",
            "\u001b[?25hRequirement already satisfied: pyyaml in /usr/local/lib/python3.6/dist-packages (from bravado->bitmex) (3.13)\n",
            "Collecting bravado-core>=5.16.1\n",
            "\u001b[?25l  Downloading https://files.pythonhosted.org/packages/76/11/18e9d28a156c33f2d5f15a5e155dc7130250acb0a569255a2b6b307b596d/bravado_core-5.17.0-py2.py3-none-any.whl (67kB)\n",
            "\u001b[K     |████████████████████████████████| 71kB 6.0MB/s \n",
            "\u001b[?25hCollecting monotonic\n",
            "  Downloading https://files.pythonhosted.org/packages/ac/aa/063eca6a416f397bd99552c534c6d11d57f58f2e94c14780f3bbf818c4cf/monotonic-1.5-py2.py3-none-any.whl\n",
            "Requirement already satisfied: typing-extensions in /usr/local/lib/python3.6/dist-packages (from bravado->bitmex) (3.6.6)\n",
            "Requirement already satisfied: chardet<4,>=3.0.2 in /usr/local/lib/python3.6/dist-packages (from requests>=2.17->bravado->bitmex) (3.0.4)\n",
            "Requirement already satisfied: urllib3!=1.25.0,!=1.25.1,<1.26,>=1.21.1 in /usr/local/lib/python3.6/dist-packages (from requests>=2.17->bravado->bitmex) (1.24.3)\n",
            "Requirement already satisfied: idna<3,>=2.5 in /usr/local/lib/python3.6/dist-packages (from requests>=2.17->bravado->bitmex) (2.9)\n",
            "Requirement already satisfied: certifi>=2017.4.17 in /usr/local/lib/python3.6/dist-packages (from requests>=2.17->bravado->bitmex) (2020.4.5.1)\n",
            "Requirement already satisfied: pytz in /usr/local/lib/python3.6/dist-packages (from bravado-core>=5.16.1->bravado->bitmex) (2018.9)\n",
            "Requirement already satisfied: msgpack>=0.5.2 in /usr/local/lib/python3.6/dist-packages (from bravado-core>=5.16.1->bravado->bitmex) (1.0.0)\n",
            "Collecting jsonref\n",
            "  Downloading https://files.pythonhosted.org/packages/07/92/f8e4ac824b14af77e613984e480fa818397c72d4141fc466decb26752749/jsonref-0.2-py3-none-any.whl\n",
            "Requirement already satisfied: jsonschema[format]>=2.5.1 in /usr/local/lib/python3.6/dist-packages (from bravado-core>=5.16.1->bravado->bitmex) (2.6.0)\n",
            "Collecting swagger-spec-validator>=2.0.1\n",
            "  Downloading https://files.pythonhosted.org/packages/bf/09/03a8d574d4a76a0ffee0a0b0430fb6ba9295dd48bb09ea73d1f3c67bb4b4/swagger_spec_validator-2.5.0-py2.py3-none-any.whl\n",
            "Collecting webcolors; extra == \"format\"\n",
            "  Downloading https://files.pythonhosted.org/packages/12/05/3350559de9714b202e443a9e6312937341bd5f79f4e4f625744295e7dd17/webcolors-1.11.1-py3-none-any.whl\n",
            "Collecting rfc3987; extra == \"format\"\n",
            "  Downloading https://files.pythonhosted.org/packages/65/d4/f7407c3d15d5ac779c3dd34fbbc6ea2090f77bd7dd12f207ccf881551208/rfc3987-1.3.8-py2.py3-none-any.whl\n",
            "Collecting strict-rfc3339; extra == \"format\"\n",
            "  Downloading https://files.pythonhosted.org/packages/56/e4/879ef1dbd6ddea1c77c0078cd59b503368b0456bcca7d063a870ca2119d3/strict-rfc3339-0.7.tar.gz\n",
            "Building wheels for collected packages: simplejson, msgpack-python, strict-rfc3339\n",
            "  Building wheel for simplejson (setup.py) ... \u001b[?25l\u001b[?25hdone\n",
            "  Created wheel for simplejson: filename=simplejson-3.17.0-cp36-cp36m-linux_x86_64.whl size=114205 sha256=e9d5b3056a6dfc326f3ce15567a357a75aa91caa1f29c5c3bac543b525324c60\n",
            "  Stored in directory: /root/.cache/pip/wheels/86/c0/83/dcd0339abb2640544bb8e0938aab2d069cef55e5647ce6e097\n",
            "  Building wheel for msgpack-python (setup.py) ... \u001b[?25l\u001b[?25hdone\n",
            "  Created wheel for msgpack-python: filename=msgpack_python-0.5.6-cp36-cp36m-linux_x86_64.whl size=299105 sha256=f3e15874bc54ce0c242237de25ed1acbd479f7ed92756d5a4720b1ad02e3b375\n",
            "  Stored in directory: /root/.cache/pip/wheels/d5/de/86/7fa56fda12511be47ea0808f3502bc879df4e63ab168ec0406\n",
            "  Building wheel for strict-rfc3339 (setup.py) ... \u001b[?25l\u001b[?25hdone\n",
            "  Created wheel for strict-rfc3339: filename=strict_rfc3339-0.7-cp36-none-any.whl size=18120 sha256=99770c41f54cd52bac04a3545ab3aa4c083efdccb432fd16d1409a405a28cc41\n",
            "  Stored in directory: /root/.cache/pip/wheels/bb/af/c9/b6e9fb5f9b2470e4ed2a7241c9ab3a8cdd3bc8555ae02ca2e6\n",
            "Successfully built simplejson msgpack-python strict-rfc3339\n",
            "Installing collected packages: simplejson, msgpack-python, jsonref, swagger-spec-validator, bravado-core, monotonic, bravado, bitmex, webcolors, rfc3987, strict-rfc3339\n",
            "Successfully installed bitmex-0.2.2 bravado-10.6.0 bravado-core-5.17.0 jsonref-0.2 monotonic-1.5 msgpack-python-0.5.6 rfc3987-1.3.8 simplejson-3.17.0 strict-rfc3339-0.7 swagger-spec-validator-2.5.0 webcolors-1.11.1\n",
            "Collecting Backtesting\n",
            "\u001b[?25l  Downloading https://files.pythonhosted.org/packages/fb/70/6a96dd99120666e8e38f0fbec5e595c864dc4f2e774a8ff3a29b1460e0c7/Backtesting-0.1.7.tar.gz (159kB)\n",
            "\u001b[K     |████████████████████████████████| 163kB 2.8MB/s \n",
            "\u001b[?25hRequirement already satisfied: numpy in /usr/local/lib/python3.6/dist-packages (from Backtesting) (1.18.4)\n",
            "Requirement already satisfied: pandas!=0.25.0,>=0.25.0 in /usr/local/lib/python3.6/dist-packages (from Backtesting) (1.0.3)\n",
            "Requirement already satisfied: bokeh>=1.4.0 in /usr/local/lib/python3.6/dist-packages (from Backtesting) (1.4.0)\n",
            "Requirement already satisfied: pytz>=2017.2 in /usr/local/lib/python3.6/dist-packages (from pandas!=0.25.0,>=0.25.0->Backtesting) (2018.9)\n",
            "Requirement already satisfied: python-dateutil>=2.6.1 in /usr/local/lib/python3.6/dist-packages (from pandas!=0.25.0,>=0.25.0->Backtesting) (2.8.1)\n",
            "Requirement already satisfied: PyYAML>=3.10 in /usr/local/lib/python3.6/dist-packages (from bokeh>=1.4.0->Backtesting) (3.13)\n",
            "Requirement already satisfied: pillow>=4.0 in /usr/local/lib/python3.6/dist-packages (from bokeh>=1.4.0->Backtesting) (7.0.0)\n",
            "Requirement already satisfied: Jinja2>=2.7 in /usr/local/lib/python3.6/dist-packages (from bokeh>=1.4.0->Backtesting) (2.11.2)\n",
            "Requirement already satisfied: packaging>=16.8 in /usr/local/lib/python3.6/dist-packages (from bokeh>=1.4.0->Backtesting) (20.3)\n",
            "Requirement already satisfied: six>=1.5.2 in /usr/local/lib/python3.6/dist-packages (from bokeh>=1.4.0->Backtesting) (1.12.0)\n",
            "Requirement already satisfied: tornado>=4.3 in /usr/local/lib/python3.6/dist-packages (from bokeh>=1.4.0->Backtesting) (4.5.3)\n",
            "Requirement already satisfied: MarkupSafe>=0.23 in /usr/local/lib/python3.6/dist-packages (from Jinja2>=2.7->bokeh>=1.4.0->Backtesting) (1.1.1)\n",
            "Requirement already satisfied: pyparsing>=2.0.2 in /usr/local/lib/python3.6/dist-packages (from packaging>=16.8->bokeh>=1.4.0->Backtesting) (2.4.7)\n",
            "Building wheels for collected packages: Backtesting\n",
            "  Building wheel for Backtesting (setup.py) ... \u001b[?25l\u001b[?25hdone\n",
            "  Created wheel for Backtesting: filename=Backtesting-0.1.7-cp36-none-any.whl size=158342 sha256=4a9ac3dc90c7da34e9c3da24d492de37661f64dc681659b323725a0005648f30\n",
            "  Stored in directory: /root/.cache/pip/wheels/92/8e/e9/7967f819d04dff0b8fefcb00bda4bc6a326cbd40d9c81d88d7\n",
            "Successfully built Backtesting\n",
            "Installing collected packages: Backtesting\n",
            "Successfully installed Backtesting-0.1.7\n",
            "Collecting backtrader\n",
            "\u001b[?25l  Downloading https://files.pythonhosted.org/packages/a6/35/6ed3fbb771712d457011680970f3f0bcf38bfbc4cedd447d62705a6523c8/backtrader-1.9.74.123-py2.py3-none-any.whl (411kB)\n",
            "\u001b[K     |████████████████████████████████| 419kB 2.7MB/s \n",
            "\u001b[?25hInstalling collected packages: backtrader\n",
            "Successfully installed backtrader-1.9.74.123\n"
          ],
          "name": "stdout"
        }
      ]
    },
    {
      "cell_type": "code",
      "metadata": {
        "id": "XIDa5tSQYM2e",
        "colab_type": "code",
        "colab": {
          "base_uri": "https://localhost:8080/",
          "height": 34
        },
        "outputId": "bdac8087-4150-4fd0-9d3c-1a398c616fdb"
      },
      "source": [
        "cd crypto_backtrader/\n"
      ],
      "execution_count": null,
      "outputs": [
        {
          "output_type": "stream",
          "text": [
            "/content/crypto_backtrader\n"
          ],
          "name": "stdout"
        }
      ]
    },
    {
      "cell_type": "code",
      "metadata": {
        "id": "lprnMjFJ_-ND",
        "colab_type": "code",
        "colab": {
          "base_uri": "https://localhost:8080/",
          "height": 368
        },
        "outputId": "8d0a8d0f-11d4-4f0a-c0c3-230da3a573d7"
      },
      "source": [
        "from finlab import crypto\n",
        "df = crypto.get_all_binance('BTCUSDT', '4h')\n",
        "\n",
        "sma1 = df.Close.rolling(20).mean()\n",
        "sma2 = df.Close.rolling(60).mean()\n",
        "\n",
        "df.Close['2020'].plot()\n",
        "sma1['2020'].plot()\n",
        "sma2['2020'].plot()\n",
        "\n",
        "\n"
      ],
      "execution_count": null,
      "outputs": [
        {
          "output_type": "error",
          "ename": "ModuleNotFoundError",
          "evalue": "ignored",
          "traceback": [
            "\u001b[0;31m---------------------------------------------------------------------------\u001b[0m",
            "\u001b[0;31mModuleNotFoundError\u001b[0m                       Traceback (most recent call last)",
            "\u001b[0;32m<ipython-input-4-6eb2683fa7bc>\u001b[0m in \u001b[0;36m<module>\u001b[0;34m()\u001b[0m\n\u001b[0;32m----> 1\u001b[0;31m \u001b[0;32mfrom\u001b[0m \u001b[0mfinlab\u001b[0m \u001b[0;32mimport\u001b[0m \u001b[0mcrypto\u001b[0m\u001b[0;34m\u001b[0m\u001b[0;34m\u001b[0m\u001b[0m\n\u001b[0m\u001b[1;32m      2\u001b[0m \u001b[0mdf\u001b[0m \u001b[0;34m=\u001b[0m \u001b[0mcrypto\u001b[0m\u001b[0;34m.\u001b[0m\u001b[0mget_all_binance\u001b[0m\u001b[0;34m(\u001b[0m\u001b[0;34m'BTCUSDT'\u001b[0m\u001b[0;34m,\u001b[0m \u001b[0;34m'4h'\u001b[0m\u001b[0;34m)\u001b[0m\u001b[0;34m\u001b[0m\u001b[0;34m\u001b[0m\u001b[0m\n\u001b[1;32m      3\u001b[0m \u001b[0;34m\u001b[0m\u001b[0m\n\u001b[1;32m      4\u001b[0m \u001b[0msma1\u001b[0m \u001b[0;34m=\u001b[0m \u001b[0mdf\u001b[0m\u001b[0;34m.\u001b[0m\u001b[0mClose\u001b[0m\u001b[0;34m.\u001b[0m\u001b[0mrolling\u001b[0m\u001b[0;34m(\u001b[0m\u001b[0;36m20\u001b[0m\u001b[0;34m)\u001b[0m\u001b[0;34m.\u001b[0m\u001b[0mmean\u001b[0m\u001b[0;34m(\u001b[0m\u001b[0;34m)\u001b[0m\u001b[0;34m\u001b[0m\u001b[0;34m\u001b[0m\u001b[0m\n\u001b[1;32m      5\u001b[0m \u001b[0msma2\u001b[0m \u001b[0;34m=\u001b[0m \u001b[0mdf\u001b[0m\u001b[0;34m.\u001b[0m\u001b[0mClose\u001b[0m\u001b[0;34m.\u001b[0m\u001b[0mrolling\u001b[0m\u001b[0;34m(\u001b[0m\u001b[0;36m60\u001b[0m\u001b[0;34m)\u001b[0m\u001b[0;34m.\u001b[0m\u001b[0mmean\u001b[0m\u001b[0;34m(\u001b[0m\u001b[0;34m)\u001b[0m\u001b[0;34m\u001b[0m\u001b[0;34m\u001b[0m\u001b[0m\n",
            "\u001b[0;31mModuleNotFoundError\u001b[0m: No module named 'finlab'",
            "",
            "\u001b[0;31m---------------------------------------------------------------------------\u001b[0;32m\nNOTE: If your import is failing due to a missing package, you can\nmanually install dependencies using either !pip or !apt.\n\nTo view examples of installing some common dependencies, click the\n\"Open Examples\" button below.\n\u001b[0;31m---------------------------------------------------------------------------\u001b[0m\n"
          ]
        }
      ]
    },
    {
      "cell_type": "code",
      "metadata": {
        "id": "iXiYGr6sJx8J",
        "colab_type": "code",
        "colab": {
          "base_uri": "https://localhost:8080/",
          "height": 459
        },
        "outputId": "1a408c01-0d2d-47b2-afac-0a9286c52328"
      },
      "source": [
        "condition = sma1 > sma2\n",
        "condition\n",
        "\n",
        "print(df.Close)\n",
        "print(df.Close.shift(1))\n"
      ],
      "execution_count": null,
      "outputs": [
        {
          "output_type": "stream",
          "text": [
            "Timestamp\n",
            "2017-08-17 04:00:00    4349.99\n",
            "2017-08-17 08:00:00    4427.30\n",
            "2017-08-17 12:00:00    4352.34\n",
            "2017-08-17 16:00:00    4325.23\n",
            "2017-08-17 20:00:00    4285.08\n",
            "                        ...   \n",
            "2020-04-28 12:00:00    7716.91\n",
            "2020-04-28 16:00:00    7717.04\n",
            "2020-04-28 20:00:00    7738.98\n",
            "2020-04-29 00:00:00    7815.30\n",
            "2020-04-29 04:00:00    7823.20\n",
            "Name: Close, Length: 5900, dtype: float64\n",
            "Timestamp\n",
            "2017-08-17 04:00:00        NaN\n",
            "2017-08-17 08:00:00    4349.99\n",
            "2017-08-17 12:00:00    4427.30\n",
            "2017-08-17 16:00:00    4352.34\n",
            "2017-08-17 20:00:00    4325.23\n",
            "                        ...   \n",
            "2020-04-28 12:00:00    7728.62\n",
            "2020-04-28 16:00:00    7716.91\n",
            "2020-04-28 20:00:00    7717.04\n",
            "2020-04-29 00:00:00    7738.98\n",
            "2020-04-29 04:00:00    7815.30\n",
            "Name: Close, Length: 5900, dtype: float64\n"
          ],
          "name": "stdout"
        }
      ]
    },
    {
      "cell_type": "code",
      "metadata": {
        "id": "5ye7fPtZQxV5",
        "colab_type": "code",
        "colab": {
          "base_uri": "https://localhost:8080/",
          "height": 294
        },
        "outputId": "f73bff0b-78b3-47f5-e4ff-ea50fdd7bf01"
      },
      "source": [
        "signal_long = (sma1 > sma2) & (sma1.shift() > sma2.shift())\n",
        "signal_short = (sma1 > sma2) & (sma1.shift() < sma2.shift())\n",
        "\n",
        "signal_long.astype(int).plot()\n",
        "(-signal_long.astype(int)).plot()"
      ],
      "execution_count": null,
      "outputs": [
        {
          "output_type": "execute_result",
          "data": {
            "text/plain": [
              "<matplotlib.axes._subplots.AxesSubplot at 0x7f115a218b70>"
            ]
          },
          "metadata": {
            "tags": []
          },
          "execution_count": 27
        },
        {
          "output_type": "display_data",
          "data": {
            "image/png": "[encoded data removed]",
            "text/plain": [
              "<Figure size 432x288 with 1 Axes>"
            ]
          },
          "metadata": {
            "tags": [],
            "needs_background": "light"
          }
        }
      ]
    },
    {
      "cell_type": "code",
      "metadata": {
        "id": "BGub92OSUtuB",
        "colab_type": "code",
        "colab": {}
      },
      "source": [
        "signal = signal_long.copy()\n",
        "signal[signal_short] = -1\n",
        "\n",
        "signal[signal_short]\n",
        "# signal "
      ],
      "execution_count": null,
      "outputs": []
    },
    {
      "cell_type": "code",
      "metadata": {
        "id": "zOiE_FVBnqe1",
        "colab_type": "code",
        "colab": {
          "base_uri": "https://localhost:8080/",
          "height": 368
        },
        "outputId": "075b8c11-3760-4cf1-ad92-2588a7cdd9b1"
      },
      "source": [
        "from finlab import crypto\n",
        "from backtesting import Backtest\n",
        "from backtesting.lib import SignalStrategy\n",
        "import pandas as pd\n",
        "\n",
        "df = crypto.get_all_binance('BTCUSDT', '4h')\n",
        "\n",
        "class Strategy(SignalStrategy):\n",
        "    \n",
        "    def init(self):\n",
        "        super().init()\n",
        "        \n",
        "        # Precompute the two moving averages\n",
        "        close = pd.Series(self.data.Close)\n",
        "        sma1 = close.rolling(20).mean()\n",
        "        sma2 = close.rolling(60).mean()\n",
        "        \n",
        "        # Precompute signal\n",
        "        signal_long = (sma1 > sma2) & (sma1.shift() < sma2.shift())\n",
        "        signal_short = (sma1 < sma2) & (sma1.shift() > sma2.shift())\n",
        "        \n",
        "        signal = signal_long\n",
        "        signal[signal_short] = -1\n",
        "        \n",
        "        self.set_signal(signal)\n",
        "        \n",
        "        \n",
        "    def next(self):\n",
        "        super().next()\n",
        "\n",
        "bt = Backtest(df, Strategy)\n",
        "bt.run()\n",
        "# bt.plot()"
      ],
      "execution_count": null,
      "outputs": [
        {
          "output_type": "error",
          "ename": "ModuleNotFoundError",
          "evalue": "ignored",
          "traceback": [
            "\u001b[0;31m---------------------------------------------------------------------------\u001b[0m",
            "\u001b[0;31mModuleNotFoundError\u001b[0m                       Traceback (most recent call last)",
            "\u001b[0;32m<ipython-input-5-d8caaac1617c>\u001b[0m in \u001b[0;36m<module>\u001b[0;34m()\u001b[0m\n\u001b[0;32m----> 1\u001b[0;31m \u001b[0;32mfrom\u001b[0m \u001b[0mfinlab\u001b[0m \u001b[0;32mimport\u001b[0m \u001b[0mcrypto\u001b[0m\u001b[0;34m\u001b[0m\u001b[0;34m\u001b[0m\u001b[0m\n\u001b[0m\u001b[1;32m      2\u001b[0m \u001b[0;32mfrom\u001b[0m \u001b[0mbacktesting\u001b[0m \u001b[0;32mimport\u001b[0m \u001b[0mBacktest\u001b[0m\u001b[0;34m\u001b[0m\u001b[0;34m\u001b[0m\u001b[0m\n\u001b[1;32m      3\u001b[0m \u001b[0;32mfrom\u001b[0m \u001b[0mbacktesting\u001b[0m\u001b[0;34m.\u001b[0m\u001b[0mlib\u001b[0m \u001b[0;32mimport\u001b[0m \u001b[0mSignalStrategy\u001b[0m\u001b[0;34m\u001b[0m\u001b[0;34m\u001b[0m\u001b[0m\n\u001b[1;32m      4\u001b[0m \u001b[0;32mimport\u001b[0m \u001b[0mpandas\u001b[0m \u001b[0;32mas\u001b[0m \u001b[0mpd\u001b[0m\u001b[0;34m\u001b[0m\u001b[0;34m\u001b[0m\u001b[0m\n\u001b[1;32m      5\u001b[0m \u001b[0;34m\u001b[0m\u001b[0m\n",
            "\u001b[0;31mModuleNotFoundError\u001b[0m: No module named 'finlab'",
            "",
            "\u001b[0;31m---------------------------------------------------------------------------\u001b[0;32m\nNOTE: If your import is failing due to a missing package, you can\nmanually install dependencies using either !pip or !apt.\n\nTo view examples of installing some common dependencies, click the\n\"Open Examples\" button below.\n\u001b[0;31m---------------------------------------------------------------------------\u001b[0m\n"
          ]
        }
      ]
    },
    {
      "cell_type": "code",
      "metadata": {
        "id": "xhLLFxtYlzPc",
        "colab_type": "code",
        "colab": {
          "base_uri": "https://localhost:8080/",
          "height": 286
        },
        "outputId": "413df809-f0a4-461a-e343-223bc2c26308"
      },
      "source": [
        "from backtesting import Backtest\n",
        "from backtesting.lib import SignalStrategy\n",
        "import pandas as pd\n",
        "from finlab import crypto\n",
        "\n",
        "\n",
        "class Strategy(SignalStrategy):\n",
        "    \n",
        "    n1 = 20\n",
        "    n2 = 60\n",
        "    \n",
        "    def init(self):\n",
        "        super().init()\n",
        "        \n",
        "        # Precompute the two moving averages\n",
        "        close = pd.Series(self.data.Close)\n",
        "        sma1 = close.rolling(self.n1).mean()\n",
        "        sma2 = close.rolling(self.n2).mean()\n",
        "        \n",
        "        # Precompute signal\n",
        "        signal_long = (sma1 > sma2) & (sma1.shift() < sma2.shift())\n",
        "        signal_short = (sma1 < sma2) & (sma1.shift() > sma2.shift())\n",
        "        \n",
        "        # combine signal\n",
        "        signal = signal_long\n",
        "        signal[signal_short] = -1\n",
        "        \n",
        "        # add signal\n",
        "        self.set_signal(signal)\n",
        "\n",
        "df = crypto.get_all_binance('BTCUSDT', '4h')\n",
        "\n",
        "bt = Backtest(df, Strategy)\n",
        "result1 = bt.run()\n",
        "bt.plot()"
      ],
      "execution_count": null,
      "outputs": [
        {
          "output_type": "stream",
          "text": [
            "2020-05-10 16:00:00 2020-05-10 17:07:21.335884\n",
            "Downloading 67 minutes of new data available for BTCUSDT, i.e. 1 instances of 4h data.\n",
            "All caught up..!\n"
          ],
          "name": "stdout"
        },
        {
          "output_type": "execute_result",
          "data": {
            "text/html": [
              "<div>\n",
              "<style scoped>\n",
              "    .dataframe tbody tr th:only-of-type {\n",
              "        vertical-align: middle;\n",
              "    }\n",
              "\n",
              "    .dataframe tbody tr th {\n",
              "        vertical-align: top;\n",
              "    }\n",
              "\n",
              "    .dataframe thead th {\n",
              "        text-align: right;\n",
              "    }\n",
              "</style>\n",
              "<table border=\"1\" class=\"dataframe\">\n",
              "  <thead>\n",
              "    <tr style=\"text-align: right;\">\n",
              "      <th></th>\n",
              "      <th>Open</th>\n",
              "      <th>High</th>\n",
              "      <th>Low</th>\n",
              "      <th>Close</th>\n",
              "    </tr>\n",
              "    <tr>\n",
              "      <th>Timestamp</th>\n",
              "      <th></th>\n",
              "      <th></th>\n",
              "      <th></th>\n",
              "      <th></th>\n",
              "    </tr>\n",
              "  </thead>\n",
              "  <tbody>\n",
              "    <tr>\n",
              "      <th>2017-08-17 04:00:00</th>\n",
              "      <td>4261.48</td>\n",
              "      <td>4349.99</td>\n",
              "      <td>4261.32</td>\n",
              "      <td>4349.99</td>\n",
              "    </tr>\n",
              "    <tr>\n",
              "      <th>2017-08-17 08:00:00</th>\n",
              "      <td>4333.32</td>\n",
              "      <td>4485.39</td>\n",
              "      <td>4333.32</td>\n",
              "      <td>4427.30</td>\n",
              "    </tr>\n",
              "    <tr>\n",
              "      <th>2017-08-17 12:00:00</th>\n",
              "      <td>4436.06</td>\n",
              "      <td>4485.39</td>\n",
              "      <td>4333.42</td>\n",
              "      <td>4352.34</td>\n",
              "    </tr>\n",
              "    <tr>\n",
              "      <th>2017-08-17 16:00:00</th>\n",
              "      <td>4352.33</td>\n",
              "      <td>4354.84</td>\n",
              "      <td>4200.74</td>\n",
              "      <td>4325.23</td>\n",
              "    </tr>\n",
              "    <tr>\n",
              "      <th>2017-08-17 20:00:00</th>\n",
              "      <td>4307.56</td>\n",
              "      <td>4369.69</td>\n",
              "      <td>4258.56</td>\n",
              "      <td>4285.08</td>\n",
              "    </tr>\n",
              "  </tbody>\n",
              "</table>\n",
              "</div>"
            ],
            "text/plain": [
              "                        Open     High      Low    Close\n",
              "Timestamp                                              \n",
              "2017-08-17 04:00:00  4261.48  4349.99  4261.32  4349.99\n",
              "2017-08-17 08:00:00  4333.32  4485.39  4333.32  4427.30\n",
              "2017-08-17 12:00:00  4436.06  4485.39  4333.42  4352.34\n",
              "2017-08-17 16:00:00  4352.33  4354.84  4200.74  4325.23\n",
              "2017-08-17 20:00:00  4307.56  4369.69  4258.56  4285.08"
            ]
          },
          "metadata": {
            "tags": []
          },
          "execution_count": 14
        }
      ]
    },
    {
      "cell_type": "code",
      "metadata": {
        "id": "Y6sOIpgylycx",
        "colab_type": "code",
        "colab": {}
      },
      "source": [
        ""
      ],
      "execution_count": null,
      "outputs": []
    }
  ]
}